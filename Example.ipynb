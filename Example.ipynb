{
 "cells": [
  {
   "cell_type": "code",
   "execution_count": 1,
   "metadata": {},
   "outputs": [],
   "source": [
    "import matplotlib.pyplot as plt\n",
    "\n",
    "import warnings\n",
    "warnings.filterwarnings('ignore')\n",
    "\n",
    "from models import *\n",
    "from preprocessing import *"
   ]
  },
  {
   "cell_type": "code",
   "execution_count": 7,
   "metadata": {},
   "outputs": [],
   "source": [
    "# Prepare data\n",
    "df_train = pd.read_csv('TRAIN_FINAL.csv')\n",
    "df_test = pd.read_csv('Test_v1.csv')\n",
    "\n",
    "l = df_train.shape[0]\n",
    "\n",
    "y_train = df_train['TARGET']\n",
    "df_train.drop(['TARGET'], axis=1, inplace=True)\n",
    "\n",
    "index = df_test['index']\n",
    "df_test.drop(['index'], axis=1, inplace=True)\n",
    "\n",
    "df = pd.concat([df_train, df_test])"
   ]
  },
  {
   "cell_type": "code",
   "execution_count": 8,
   "metadata": {},
   "outputs": [
    {
     "name": "stdout",
     "output_type": "stream",
     "text": [
      "Dropping columns with zero variance.\n",
      "Binarizing columns.\n",
      "Dropping sparse binary columns.\n"
     ]
    },
    {
     "name": "stderr",
     "output_type": "stream",
     "text": [
      "Applying Boxcox transformation: 100%|██████████| 283/283 [00:20<00:00, 13.55column/s]\n"
     ]
    },
    {
     "name": "stdout",
     "output_type": "stream",
     "text": [
      "Normalizing df using robust scaler.\n"
     ]
    },
    {
     "name": "stderr",
     "output_type": "stream",
     "text": [
      "Reading as float32: 100%|██████████| 283/283 [00:09<00:00, 29.63column/s]\n"
     ]
    },
    {
     "name": "stdout",
     "output_type": "stream",
     "text": [
      "Replacing inf in df.\n",
      "Done.\n"
     ]
    }
   ],
   "source": [
    "# Preprocessing\n",
    "drop_zero_var_columns(df)\n",
    "binarize_columns(df)\n",
    "drop_sparse_binary(df)\n",
    "df = boxcox_transform(df)\n",
    "df = normalize(df)\n",
    "\n",
    "df = df_to_float32(df)\n",
    "replace_inf(df)\n",
    "print ('Done.')"
   ]
  },
  {
   "cell_type": "code",
   "execution_count": 9,
   "metadata": {},
   "outputs": [],
   "source": [
    "X_train = df[:l]\n",
    "X_test = df[l:]"
   ]
  },
  {
   "cell_type": "code",
   "execution_count": 13,
   "metadata": {},
   "outputs": [
    {
     "name": "stdout",
     "output_type": "stream",
     "text": [
      "DecisionTreeClassifier ->\n",
      "Performing 5-fold cv...\n",
      "Mean AUROC = 0.5145186214636464\n",
      "\n",
      "GradientBoostingClassifier ->\n",
      "Performing 5-fold cv...\n",
      "Mean AUROC = 0.5032322436332002\n",
      "\n",
      "XGBClassifier ->\n",
      "Performing 5-fold cv...\n",
      "Mean AUROC = 0.5002376760847727\n",
      "\n"
     ]
    }
   ],
   "source": [
    "print ('DecisionTreeClassifier ->')\n",
    "dt = DecisionTreeClassifier()\n",
    "k_fold(dt, X_train, y_train)\n",
    "print\n",
    "\n",
    "print('GradientBoostingClassifier ->')\n",
    "gb = GradientBoostingClassifier()\n",
    "k_fold(gb, X_train, y_train)\n",
    "print\n",
    "\n",
    "print('XGBClassifier ->')\n",
    "xgb = XGBClassifier()\n",
    "k_fold(xgb, X_train, y_train)\n",
    "print"
   ]
  }
 ],
 "metadata": {
  "kernelspec": {
   "display_name": "Python 2",
   "language": "python",
   "name": "python2"
  },
  "language_info": {
   "codemirror_mode": {
    "name": "ipython",
    "version": 2
   },
   "file_extension": ".py",
   "mimetype": "text/x-python",
   "name": "python",
   "nbconvert_exporter": "python",
   "pygments_lexer": "ipython2",
   "version": "2.7.15"
  }
 },
 "nbformat": 4,
 "nbformat_minor": 2
}
